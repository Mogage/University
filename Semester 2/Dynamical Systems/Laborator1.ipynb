{
 "cells": [
  {
   "cell_type": "code",
   "execution_count": 4,
   "metadata": {},
   "outputs": [
    {
     "data": {
      "text/plain": [
       "1/4*x^2 + 23/8*cos(2*x) + sin(2*x) + 17/8"
      ]
     },
     "execution_count": 4,
     "metadata": {},
     "output_type": "execute_result"
    }
   ],
   "source": [
    "x=var('x')\n",
    "y=function('y')(x)\n",
    "eq=diff(y,x,2) + 4 * y == x ^ 2 + 9\n",
    "desolve(eq, y, ics=[0,5,2])"
   ]
  },
  {
   "cell_type": "code",
   "execution_count": 5,
   "metadata": {},
   "outputs": [
    {
     "data": {
      "text/plain": [
       "(_K2*x + _K1)*e^(3*x)"
      ]
     },
     "execution_count": 5,
     "metadata": {},
     "output_type": "execute_result"
    }
   ],
   "source": [
    "eq=diff(y,x,2)-6*diff(y,x)+9*y==0\n",
    "desolve(eq,y)"
   ]
  },
  {
   "cell_type": "code",
   "execution_count": 10,
   "metadata": {},
   "outputs": [
    {
     "data": {
      "text/html": [
       "<html><script type=\"math/tex; mode=display\">\\newcommand{\\Bold}[1]{\\mathbf{#1}}\\left[x\\left(t\\right) = -{\\left(C_{1} - C_{2}\\right)} e^{\\left(-t\\right)} + 2 \\, C_{1} - C_{2}, y\\left(t\\right) = -2 \\, {\\left(C_{1} - C_{2}\\right)} e^{\\left(-t\\right)} + 2 \\, C_{1} - C_{2}\\right]</script></html>"
      ],
      "text/plain": [
       "[x(t) == -(C1 - C2)*e^(-t) + 2*C1 - C2,\n",
       " y(t) == -2*(C1 - C2)*e^(-t) + 2*C1 - C2]"
      ]
     },
     "metadata": {},
     "output_type": "display_data"
    }
   ],
   "source": [
    "t=var('t')\n",
    "C1,C2=var('C1,C2')\n",
    "x=function('x')(t)\n",
    "y=function('y')(t)\n",
    "deq1=diff(x,t)==x-y\n",
    "deq2=diff(y,t)==2*x-2*y\n",
    "syst=[deq1,deq2]\n",
    "show(desolve_system(syst, [x,y], [0,C1,C2]))"
   ]
  },
  {
   "cell_type": "code",
   "execution_count": 27,
   "metadata": {},
   "outputs": [
    {
     "data": {
      "text/html": [
       "<html><script type=\"math/tex; mode=display\">\\newcommand{\\Bold}[1]{\\mathbf{#1}}2 \\, e^{\\left(x^{3}\\right)} - 1</script></html>"
      ],
      "text/plain": [
       "2*e^(x^3) - 1"
      ]
     },
     "metadata": {},
     "output_type": "display_data"
    }
   ],
   "source": [
    "x=var('x')\n",
    "y=function('y')(x)\n",
    "eq=diff(y,x)-3*x^2*y== 3*x^2\n",
    "show(desolve(eq, y,ics=[0,1]))"
   ]
  },
  {
   "cell_type": "code",
   "execution_count": 26,
   "metadata": {},
   "outputs": [
    {
     "data": {
      "text/html": [
       "<html><script type=\"math/tex; mode=display\">\\newcommand{\\Bold}[1]{\\mathbf{#1}}\\left[-\\frac{1}{2} \\, \\arctan\\left(\\frac{x}{y\\left(x\\right)}\\right) - \\frac{1}{4} \\, \\log\\left(x^{2} + y\\left(x\\right)^{2}\\right) = C, \\verb|exact|\\right]</script></html>"
      ],
      "text/plain": [
       "[-1/2*arctan(x/y(x)) - 1/4*log(x^2 + y(x)^2) == _C, 'exact']"
      ]
     },
     "metadata": {},
     "output_type": "display_data"
    }
   ],
   "source": [
    "eq=(x-y)*diff(y,x)==x+y\n",
    "show(desolve(eq, y, show_method=true))"
   ]
  },
  {
   "cell_type": "code",
   "execution_count": 36,
   "metadata": {},
   "outputs": [
    {
     "data": {
      "text/html": [
       "<html><script type=\"math/tex; mode=display\">\\newcommand{\\Bold}[1]{\\mathbf{#1}}x^{2} + K_{1} + x + \\frac{K_{2}}{x}</script></html>"
      ],
      "text/plain": [
       "x^2 + _K1 + x + _K2/x"
      ]
     },
     "metadata": {},
     "output_type": "display_data"
    }
   ],
   "source": [
    "x=var('x')\n",
    "y=function('y')(x)\n",
    "eq=x*diff(y,x,2)+2*diff(y,x)==2+6*x\n",
    "show(desolve(eq, y))"
   ]
  },
  {
   "cell_type": "code",
   "execution_count": 37,
   "metadata": {},
   "outputs": [
    {
     "data": {
      "text/html": [
       "<html><script type=\"math/tex; mode=display\">\\newcommand{\\Bold}[1]{\\mathbf{#1}}4 \\, x^{2} + \\cos\\left(\\frac{1}{2} \\, x\\right) + \\sin\\left(\\frac{1}{2} \\, x\\right) - 16</script></html>"
      ],
      "text/plain": [
       "4*x^2 + cos(1/2*x) + sin(1/2*x) - 16"
      ]
     },
     "metadata": {},
     "output_type": "display_data"
    }
   ],
   "source": [
    "eq=diff(y,x,2) + 1/4 * y == x^2 + 4\n",
    "show(desolve(eq,y,ics=[0,-15,1/2]))"
   ]
  },
  {
   "cell_type": "code",
   "execution_count": 39,
   "metadata": {},
   "outputs": [
    {
     "data": {
      "text/html": [
       "<html><script type=\"math/tex; mode=display\">\\newcommand{\\Bold}[1]{\\mathbf{#1}}\\left[x\\left(t\\right) = {\\left(C_{1} \\cos\\left(t\\right) - {\\left(C_{1} - C_{2}\\right)} \\sin\\left(t\\right)\\right)} e^{\\left(-6 \\, t\\right)}, y\\left(t\\right) = {\\left(C_{2} \\cos\\left(t\\right) - {\\left(2 \\, C_{1} - C_{2}\\right)} \\sin\\left(t\\right)\\right)} e^{\\left(-6 \\, t\\right)}\\right]</script></html>"
      ],
      "text/plain": [
       "[x(t) == (C1*cos(t) - (C1 - C2)*sin(t))*e^(-6*t),\n",
       " y(t) == (C2*cos(t) - (2*C1 - C2)*sin(t))*e^(-6*t)]"
      ]
     },
     "metadata": {},
     "output_type": "display_data"
    }
   ],
   "source": [
    "t=var('t')\n",
    "C1,C2=var('C1,C2')\n",
    "x=function('x')(t)\n",
    "y=function('y')(t)\n",
    "deq1=diff(x,t)==-7*x+y\n",
    "deq2=diff(y,t)==-2*x-5*y\n",
    "syst=[deq1,deq2]\n",
    "show(desolve_system(syst, [x,y], [0,C1,C2]))"
   ]
  },
  {
   "cell_type": "code",
   "execution_count": null,
   "metadata": {},
   "outputs": [],
   "source": []
  }
 ],
 "metadata": {
  "kernelspec": {
   "display_name": "SageMath 9.1",
   "language": "sage",
   "name": "sagemath"
  },
  "language_info": {
   "codemirror_mode": {
    "name": "ipython",
    "version": 3
   },
   "file_extension": ".py",
   "mimetype": "text/x-python",
   "name": "python",
   "nbconvert_exporter": "python",
   "pygments_lexer": "ipython3",
   "version": "3.7.3"
  }
 },
 "nbformat": 4,
 "nbformat_minor": 2
}
