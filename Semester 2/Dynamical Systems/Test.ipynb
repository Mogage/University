{
 "cells": [
  {
   "cell_type": "code",
   "execution_count": 97,
   "metadata": {},
   "outputs": [
    {
     "data": {
      "text/html": [
       "<html><script type=\"math/tex; mode=display\">\\newcommand{\\Bold}[1]{\\mathbf{#1}}\\left( t, k \\right) \\ {\\mapsto} \\ C e^{\\left(-k t\\right)}</script></html>"
      ],
      "text/plain": [
       "(t, k) |--> _C*e^(-k*t)"
      ]
     },
     "metadata": {},
     "output_type": "display_data"
    },
    {
     "data": {
      "text/html": [
       "<html><script type=\"math/tex; mode=display\">\\newcommand{\\Bold}[1]{\\mathbf{#1}}\\left( t, k \\right) \\ {\\mapsto} \\ 100 \\, e^{\\left(-k t\\right)}</script></html>"
      ],
      "text/plain": [
       "(t, k) |--> 100*e^(-k*t)"
      ]
     },
     "metadata": {},
     "output_type": "display_data"
    },
    {
     "data": {
      "text/plain": [
       "[]"
      ]
     },
     "execution_count": 97,
     "metadata": {},
     "output_type": "execute_result"
    }
   ],
   "source": [
    "reset()\n",
    "t=var('t')\n",
    "k=var('k')\n",
    "x=function('x')(t)\n",
    "eq=diff(x,t) / k + x == 0\n",
    "sol(t,k) = desolve(eq, x, ivar=t)\n",
    "show(sol)\n",
    "#sol1 = sol.substitute(k = -0.01387)\n",
    "sol1(t,k) = sol.substitute(_C = 100)\n",
    "show(sol1)\n",
    "\n",
    "solve(sol(50, k) == 200, t)\n",
    "\n",
    "#plot(sol1, t, 49.9, 50.1, ymin = 199, ymax = 201)"
   ]
  },
  {
   "cell_type": "code",
   "execution_count": 1,
   "metadata": {},
   "outputs": [],
   "source": [
    "reset()"
   ]
  },
  {
   "cell_type": "code",
   "execution_count": 41,
   "metadata": {},
   "outputs": [
    {
     "data": {
      "text/html": [
       "<html><script type=\"math/tex; mode=display\">\\newcommand{\\Bold}[1]{\\mathbf{#1}}{\\left(K_{2} \\cos\\left(x\\right) + K_{1} \\sin\\left(x\\right)\\right)} e^{\\left(2 \\, x\\right)}</script></html>"
      ],
      "text/plain": [
       "(_K2*cos(x) + _K1*sin(x))*e^(2*x)"
      ]
     },
     "metadata": {},
     "output_type": "display_data"
    },
    {
     "data": {
      "text/html": [
       "<html><script type=\"math/tex; mode=display\">\\newcommand{\\Bold}[1]{\\mathbf{#1}}3 \\, e^{\\left(2 \\, x\\right)} \\sin\\left(x\\right)</script></html>"
      ],
      "text/plain": [
       "3*e^(2*x)*sin(x)"
      ]
     },
     "metadata": {},
     "output_type": "display_data"
    },
    {
     "data": {
      "image/png": "[encoded data removed]",
      "text/plain": [
       "Graphics object consisting of 1 graphics primitive"
      ]
     },
     "execution_count": 41,
     "metadata": {},
     "output_type": "execute_result"
    }
   ],
   "source": [
    "reset()\n",
    "x=var('x')\n",
    "y=function('y')(x)\n",
    "eq = diff(y,x,2) - 4*diff(y,x) + 5*y == 0\n",
    "sol = desolve(eq, y)\n",
    "show(sol)\n",
    "sol = desolve(eq, y, ics=[0,0,3])\n",
    "show(sol)\n",
    "plot(sol, x, 0, 7)"
   ]
  },
  {
   "cell_type": "code",
   "execution_count": 55,
   "metadata": {},
   "outputs": [
    {
     "data": {
      "text/html": [
       "<html><script type=\"math/tex; mode=display\">\\newcommand{\\Bold}[1]{\\mathbf{#1}}\\left[s = \\left(-1\\right), s = 1, s = 0\\right]</script></html>"
      ],
      "text/plain": [
       "[s == -1, s == 1, s == 0]"
      ]
     },
     "metadata": {},
     "output_type": "display_data"
    },
    {
     "data": {
      "image/png": "[encoded data removed]",
      "text/plain": [
       "Graphics object consisting of 8 graphics primitives"
      ]
     },
     "metadata": {},
     "output_type": "display_data"
    }
   ],
   "source": [
    "reset()\n",
    "t=var('t')\n",
    "s=var('s')\n",
    "x=function('x')(t)\n",
    "f=function('f')(s)\n",
    "f(s)=-s^3 + s\n",
    "eq = solve(f(s)==0, s)\n",
    "show(eq)\n",
    "\n",
    "#sf=plot_slope_field(f(s), (t,0,2), (s,-3,3), headaxislength=3,headlength=4,color='red')\n",
    "deq=diff(x,t)==f(x)\n",
    "g1=desolve_rk4(deq, x, [0,-2], step=0.01, end_points=[0,2], output='plot', color='blue')\n",
    "g2=desolve_rk4(deq, x, [0, -1], step=0.01, end_points=[0,2], output='plot', color='black')\n",
    "g3=desolve_rk4(deq, x, [0, -1/2], step=0.01, end_points=[0,2], output='plot', color='blue')\n",
    "g4=desolve_rk4(deq, x, [0, 0], step=0.01, end_points=[0,2], output='plot', color='black')\n",
    "g5=desolve_rk4(deq, x, [0, 1/2], step=0.01, end_points=[0,2], output='plot', color='blue')\n",
    "g6=desolve_rk4(deq, x, [0, 1], step=0.01, end_points=[0,2], output='plot', color='black')\n",
    "g7=desolve_rk4(deq, x, [0, 3/2], step=0.01, end_points=[0,2], output='plot', color='blue')\n",
    "g8=desolve_rk4(deq, x, [0, 2], step=0.01, end_points=[0,2], output='plot', color='blue')\n",
    "g=g1+g2+g3+g4+g5+g6+g7+g8\n",
    "g.show(ymin=-3,ymax=3)"
   ]
  },
  {
   "cell_type": "code",
   "execution_count": 109,
   "metadata": {},
   "outputs": [
    {
     "data": {
      "text/html": [
       "<html><script type=\"math/tex; mode=display\">\\newcommand{\\Bold}[1]{\\mathbf{#1}}\\left[\\left[x = 4, y = 2\\right], \\left[x = -2 i \\, \\sqrt{3} - 2, y = i \\, \\sqrt{3} - 1\\right], \\left[x = 2 i \\, \\sqrt{3} - 2, y = -i \\, \\sqrt{3} - 1\\right], \\left[x = 0, y = 0\\right]\\right]</script></html>"
      ],
      "text/plain": [
       "[[x == 4, y == 2], [x == -2*I*sqrt(3) - 2, y == I*sqrt(3) - 1], [x == 2*I*sqrt(3) - 2, y == -I*sqrt(3) - 1], [x == 0, y == 0]]"
      ]
     },
     "metadata": {},
     "output_type": "display_data"
    },
    {
     "data": {
      "text/html": [
       "<html><script type=\"math/tex; mode=display\">\\newcommand{\\Bold}[1]{\\mathbf{#1}}\\left[-2 \\, \\sqrt{3} + 6, 2 \\, \\sqrt{3} + 6\\right]</script></html>"
      ],
      "text/plain": [
       "[-2*sqrt(3) + 6, 2*sqrt(3) + 6]"
      ]
     },
     "metadata": {},
     "output_type": "display_data"
    },
    {
     "data": {
      "text/html": [
       "<html><script type=\"math/tex; mode=display\">\\newcommand{\\Bold}[1]{\\mathbf{#1}}\\left[-2 \\, \\sqrt{2}, 2 \\, \\sqrt{2}\\right]</script></html>"
      ],
      "text/plain": [
       "[-2*sqrt(2), 2*sqrt(2)]"
      ]
     },
     "metadata": {},
     "output_type": "display_data"
    },
    {
     "data": {
      "text/html": [
       "<html><script type=\"math/tex; mode=display\">\\newcommand{\\Bold}[1]{\\mathbf{#1}}\\left[-i \\, \\sqrt{19} + i \\, \\sqrt{3}, i \\, \\sqrt{19} + i \\, \\sqrt{3}\\right]</script></html>"
      ],
      "text/plain": [
       "[-I*sqrt(19) + I*sqrt(3), I*sqrt(19) + I*sqrt(3)]"
      ]
     },
     "metadata": {},
     "output_type": "display_data"
    },
    {
     "data": {
      "text/html": [
       "<html><script type=\"math/tex; mode=display\">\\newcommand{\\Bold}[1]{\\mathbf{#1}}\\left[-i \\, \\sqrt{19} - i \\, \\sqrt{3}, i \\, \\sqrt{19} - i \\, \\sqrt{3}\\right]</script></html>"
      ],
      "text/plain": [
       "[-I*sqrt(19) - I*sqrt(3), I*sqrt(19) - I*sqrt(3)]"
      ]
     },
     "metadata": {},
     "output_type": "display_data"
    }
   ],
   "source": [
    "reset()\n",
    "x,y,t=var('x,y,t')\n",
    "f1=function('f1')(x,y)\n",
    "f2=function('f2')(x,y)\n",
    "f1(x,y)=x^2-8*y \n",
    "f2(x,y)=y^2-x\n",
    "\n",
    "equil=solve([f1(x,y)==0, f2(x,y)==0], x,y)\n",
    "show(equil)\n",
    "J=jacobian((f1(x,y), f2(x,y)), (x,y))\n",
    "show(J(x=4,y=2).eigenvalues())\n",
    "show(J(x=0,y=0).eigenvalues())\n",
    "show(J(x=2*I*sqrt(3),y=-I*sqrt(3)).eigenvalues())\n",
    "show(J(x=-2*I*sqrt(3),y=I*sqrt(3)).eigenvalues())"
   ]
  },
  {
   "cell_type": "code",
   "execution_count": null,
   "metadata": {},
   "outputs": [],
   "source": []
  },
  {
   "cell_type": "code",
   "execution_count": null,
   "metadata": {},
   "outputs": [],
   "source": []
  }
 ],
 "metadata": {
  "kernelspec": {
   "display_name": "SageMath 9.1",
   "language": "sage",
   "name": "sagemath"
  },
  "language_info": {
   "codemirror_mode": {
    "name": "ipython",
    "version": 3
   },
   "file_extension": ".py",
   "mimetype": "text/x-python",
   "name": "python",
   "nbconvert_exporter": "python",
   "pygments_lexer": "ipython3",
   "version": "3.7.3"
  }
 },
 "nbformat": 4,
 "nbformat_minor": 2
}
